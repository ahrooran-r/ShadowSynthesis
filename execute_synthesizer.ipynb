{
 "cells": [
  {
   "cell_type": "code",
   "execution_count": 1,
   "outputs": [],
   "source": [
    "pretrain_model_path = './model/'\n",
    "shadow_masks_path = './mask/'\n",
    "original_path = \"./original/\"\n",
    "\n",
    "source_path = \"./source/\"\n",
    "target_path = \"./target/\"\n",
    "final_mask_path = \"./final_mask/\"\n",
    "\n",
    "width = 1920\n",
    "height = 1440\n",
    "channel = 64"
   ],
   "metadata": {
    "collapsed": false,
    "pycharm": {
     "name": "#%%\n"
    }
   }
  },
  {
   "cell_type": "code",
   "execution_count": 2,
   "outputs": [
    {
     "name": "stdout",
     "output_type": "stream",
     "text": [
      "WARNING:tensorflow:\n",
      "The TensorFlow contrib module will not be included in TensorFlow 2.0.\n",
      "For more information, please see:\n",
      "  * https://github.com/tensorflow/community/blob/master/rfcs/20180907-contrib-sunset.md\n",
      "  * https://github.com/tensorflow/addons\n",
      "  * https://github.com/tensorflow/io (for I/O related ops)\n",
      "If you depend on functionality not listed there, please file an issue.\n",
      "\n",
      "loaded ./model/lasted_model.ckpt\n"
     ]
    }
   ],
   "source": [
    "from synthesizer import Synthesizer\n",
    "\n",
    "s = Synthesizer(\n",
    "    pretrain_model_path,\n",
    "    original_path,\n",
    "    shadow_masks_path,\n",
    "    source_path,\n",
    "    target_path,\n",
    "    final_mask_path,\n",
    "    width,\n",
    "    height,\n",
    "    channel\n",
    ")"
   ],
   "metadata": {
    "collapsed": false,
    "pycharm": {
     "name": "#%%\n"
    }
   }
  },
  {
   "cell_type": "code",
   "execution_count": 3,
   "outputs": [
    {
     "name": "stdout",
     "output_type": "stream",
     "text": [
      "completed 1.jpg\n",
      "completed 10.jpg\n",
      "completed 100.jpg\n",
      "completed 101.jpg\n",
      "completed 102.jpg\n",
      "completed 103.jpg\n",
      "completed 104.jpg\n",
      "completed 105.jpg\n",
      "completed 106.jpg\n",
      "completed 107.jpg\n",
      "completed 108.jpg\n",
      "completed 109.jpg\n",
      "completed 11.jpg\n",
      "completed 110.jpg\n",
      "completed 111.jpg\n",
      "completed 112.jpg\n",
      "completed 113.jpg\n",
      "completed 114.jpg\n",
      "completed 115.jpg\n",
      "completed 116.jpg\n",
      "completed 117.jpg\n",
      "completed 118.jpg\n",
      "completed 119.jpg\n",
      "completed 12.jpg\n",
      "completed 120.jpg\n",
      "completed 121.jpg\n",
      "completed 122.jpg\n",
      "completed 123.jpg\n",
      "completed 124.jpg\n",
      "completed 125.jpg\n",
      "completed 126.jpg\n",
      "completed 127.jpg\n",
      "completed 128.jpg\n",
      "completed 129.jpg\n",
      "completed 13.jpg\n",
      "completed 130.jpg\n",
      "completed 131.jpg\n",
      "completed 132.jpg\n",
      "completed 133.jpg\n",
      "completed 134.jpg\n",
      "completed 135.jpg\n",
      "completed 136.jpg\n",
      "completed 137.jpg\n",
      "completed 138.jpg\n",
      "completed 139.jpg\n",
      "completed 14.jpg\n",
      "completed 140.jpg\n",
      "completed 141.jpg\n",
      "completed 142.jpg\n",
      "completed 143.jpg\n",
      "completed 144.jpg\n",
      "completed 145.jpg\n",
      "completed 146.jpg\n",
      "completed 147.jpg\n",
      "completed 148.jpg\n",
      "completed 149.jpg\n",
      "completed 15.jpg\n",
      "completed 150.jpg\n",
      "completed 151.jpg\n",
      "completed 152.jpg\n",
      "completed 153.jpg\n",
      "completed 154.jpg\n",
      "completed 155.jpg\n",
      "completed 156.jpg\n",
      "completed 157.jpg\n",
      "completed 158.jpg\n",
      "completed 159.jpg\n",
      "completed 16.jpg\n",
      "completed 160.jpg\n",
      "completed 161.jpg\n",
      "completed 162.jpg\n",
      "completed 163.jpg\n",
      "completed 164.jpg\n",
      "completed 165.jpg\n",
      "completed 166.jpg\n",
      "completed 167.jpg\n",
      "completed 168.jpg\n",
      "completed 169.jpg\n",
      "completed 17.jpg\n",
      "completed 170.jpg\n",
      "completed 171.jpg\n",
      "completed 172.jpg\n",
      "completed 173.jpg\n",
      "completed 174.jpg\n",
      "completed 175.jpg\n",
      "completed 176.jpg\n",
      "completed 177.jpg\n",
      "completed 178.jpg\n",
      "completed 179.jpg\n",
      "completed 18.jpg\n",
      "completed 180.jpg\n",
      "completed 181.jpg\n",
      "completed 19.jpg\n",
      "completed 2.jpg\n",
      "completed 20.jpg\n",
      "completed 21.jpg\n",
      "completed 22.jpg\n",
      "completed 23.jpg\n",
      "completed 24.jpg\n",
      "completed 25.jpg\n",
      "completed 26.jpg\n",
      "completed 27.jpg\n",
      "completed 28.jpg\n",
      "completed 29.jpg\n",
      "completed 3.jpg\n",
      "completed 30.jpg\n",
      "completed 31.jpg\n",
      "completed 32.jpg\n",
      "completed 33.jpg\n",
      "completed 34.jpg\n",
      "completed 35.jpg\n",
      "completed 36.jpg\n",
      "completed 37.jpg\n",
      "completed 38.jpg\n",
      "completed 39.jpg\n",
      "completed 4.jpg\n",
      "completed 40.jpg\n",
      "completed 41.jpg\n",
      "completed 42.jpg\n",
      "completed 43.jpg\n",
      "completed 44.jpg\n",
      "completed 45.jpg\n",
      "completed 46.jpg\n",
      "completed 47.jpg\n",
      "completed 48.jpg\n",
      "completed 49.jpg\n",
      "completed 5.jpg\n",
      "completed 50.jpg\n",
      "completed 51.jpg\n",
      "completed 52.jpg\n",
      "completed 53.jpg\n",
      "completed 54.jpg\n",
      "completed 55.jpg\n",
      "completed 56.jpg\n",
      "completed 57.jpg\n",
      "completed 58.jpg\n",
      "completed 59.jpg\n",
      "completed 6.jpg\n",
      "completed 60.jpg\n",
      "completed 61.jpg\n",
      "completed 62.jpg\n",
      "completed 63.jpg\n",
      "completed 64.jpg\n",
      "completed 65.jpg\n",
      "completed 66.jpg\n",
      "completed 67.jpg\n",
      "completed 68.jpg\n",
      "completed 69.jpg\n",
      "completed 7.jpg\n",
      "completed 70.jpg\n",
      "completed 71.jpg\n",
      "completed 72.jpg\n",
      "completed 73.jpg\n",
      "completed 74.jpg\n",
      "completed 75.jpg\n",
      "completed 76.jpg\n",
      "completed 77.jpg\n",
      "completed 78.jpg\n",
      "completed 79.jpg\n",
      "completed 8.jpg\n",
      "completed 80.jpg\n",
      "completed 81.jpg\n",
      "completed 82.jpg\n",
      "completed 83.jpg\n",
      "completed 84.jpg\n",
      "completed 85.jpg\n",
      "completed 86.jpg\n",
      "completed 87.jpg\n",
      "completed 88.jpg\n",
      "completed 89.jpg\n",
      "completed 9.jpg\n",
      "completed 90.jpg\n",
      "completed 91.jpg\n",
      "completed 92.jpg\n",
      "completed 93.jpg\n",
      "completed 94.jpg\n",
      "completed 95.jpg\n",
      "completed 96.jpg\n",
      "completed 97.jpg\n",
      "completed 98.jpg\n",
      "completed 99.jpg\n"
     ]
    }
   ],
   "source": [
    "s.execute()"
   ],
   "metadata": {
    "collapsed": false,
    "pycharm": {
     "name": "#%%\n"
    }
   }
  },
  {
   "cell_type": "code",
   "execution_count": 4,
   "outputs": [
    {
     "name": "stdout",
     "output_type": "stream",
     "text": [
      "----Finished----\n"
     ]
    }
   ],
   "source": [
    "print(\"----Finished----\")\n"
   ],
   "metadata": {
    "collapsed": false,
    "pycharm": {
     "name": "#%%\n"
    }
   }
  }
 ],
 "metadata": {
  "kernelspec": {
   "display_name": "Python 3",
   "language": "python",
   "name": "python3"
  },
  "language_info": {
   "codemirror_mode": {
    "name": "ipython",
    "version": 2
   },
   "file_extension": ".py",
   "mimetype": "text/x-python",
   "name": "python",
   "nbconvert_exporter": "python",
   "pygments_lexer": "ipython2",
   "version": "2.7.6"
  }
 },
 "nbformat": 4,
 "nbformat_minor": 0
}